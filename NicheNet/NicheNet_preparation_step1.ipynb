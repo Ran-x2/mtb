{
 "cells": [
  {
   "cell_type": "code",
   "execution_count": 1,
   "metadata": {},
   "outputs": [],
   "source": [
    "#import the library\n",
    "import scanpy as sc\n",
    "import numpy as np\n",
    "import scipy as sp\n",
    "import pandas as pd\n",
    "import matplotlib.pyplot as plt\n",
    "from matplotlib import rcParams\n",
    "from matplotlib import colors\n",
    "import seaborn as sb\n",
    "import seaborn as sns\n",
    "import logging\n",
    "#import tensorflow as tf\n",
    "import os\n",
    "import anndata\n",
    "\n",
    "import importlib\n",
    "import warnings\n",
    "warnings.filterwarnings(\"ignore\")\n",
    "import pickle as pkl\n",
    "from matplotlib.colors import LinearSegmentedColormap"
   ]
  },
  {
   "cell_type": "code",
   "execution_count": null,
   "metadata": {},
   "outputs": [],
   "source": []
  },
  {
   "cell_type": "markdown",
   "metadata": {},
   "source": [
    "### Get the at least 1% expressed genes for NicheNet to determine what receptor is expressed"
   ]
  },
  {
   "cell_type": "code",
   "execution_count": null,
   "metadata": {},
   "outputs": [],
   "source": [
    "def get_expressed_genes(celltypes, adata, pct=0.01):\n",
    "    expressed_genes = {}\n",
    "\n",
    "    for celltype in celltypes:\n",
    "        adata_sub = adata[adata.obs['tissue+celltype'] == celltype]\n",
    "\n",
    "        gene_expression = (adata_sub.layers['counts'] > 0).sum(axis=0) / adata_sub.n_obs\n",
    "        if isinstance(gene_expression, np.matrix) or hasattr(gene_expression, \"A1\"):\n",
    "            gene_expression = np.array(gene_expression).flatten()\n",
    "        expressed_genes[celltype] = adata.var_names[gene_expression >= pct].tolist()\n",
    "    \n",
    "    return expressed_genes"
   ]
  },
  {
   "cell_type": "code",
   "execution_count": null,
   "metadata": {},
   "outputs": [],
   "source": [
    "save_names = ['CD4DEG_IEL_vs_LP_1','CD4DEG_LP_vs_L_1','CD8DEG_IEL_vs_LP_1','CD8DEG_LP_vs_L_1',\n",
    "              'CD4DEG_IEL_vs_LP_2','CD4DEG_LP_vs_L_2','CD8DEG_IEL_vs_LP_2','CD8DEG_LP_vs_L_2']"
   ]
  },
  {
   "cell_type": "code",
   "execution_count": null,
   "metadata": {},
   "outputs": [],
   "source": [
    "celltype_names =  ['IEL TCRab CD4 TRM','LP TCRab CD4 TRM',\n",
    "                                       'IEL TCRab CD8ab TRM',\n",
    "                                       'LP TCRab CD8ab TRM',\n",
    "                                       'LP TCRab CD4 TRM',\n",
    "                                       'L TCRab CD4 TRM',\n",
    "                                       'LP TCRab CD8ab TRM',\n",
    "                                       'L TCRab CD8ab TRM']"
   ]
  },
  {
   "cell_type": "code",
   "execution_count": null,
   "metadata": {},
   "outputs": [],
   "source": [
    "expressed_genes = get_expressed_genes(celltype_names, adata_all)"
   ]
  },
  {
   "cell_type": "code",
   "execution_count": null,
   "metadata": {},
   "outputs": [],
   "source": [
    "for i, key in enumerate(save_names): \n",
    "    pd.DataFrame(expressed_genes[celltype_names[i]]).to_csv('E:/AAA_Labwork/T cells/v3/'+key+'_receptors.csv')"
   ]
  },
  {
   "cell_type": "code",
   "execution_count": null,
   "metadata": {},
   "outputs": [],
   "source": [
    "expressed_genes = get_expressed_genes(['TRM'],adata_all)\n",
    "pd.DataFrame(expressed_genes['TRM']).to_csv('E:/AAA_Labwork/T cells/v3/TRM_background_genes.csv')"
   ]
  }
 ],
 "metadata": {
  "kernelspec": {
   "display_name": "base",
   "language": "python",
   "name": "python3"
  },
  "language_info": {
   "codemirror_mode": {
    "name": "ipython",
    "version": 3
   },
   "file_extension": ".py",
   "mimetype": "text/x-python",
   "name": "python",
   "nbconvert_exporter": "python",
   "pygments_lexer": "ipython3",
   "version": "3.11.5"
  }
 },
 "nbformat": 4,
 "nbformat_minor": 2
}
